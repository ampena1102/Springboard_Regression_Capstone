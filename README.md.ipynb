{
 "cells": [
  {
   "cell_type": "markdown",
   "id": "346b9067-e9ef-4f90-b3c0-a5ea8b190fb0",
   "metadata": {},
   "source": [
    "# House Price Prediction Project\n",
    "\n",
    "## Project Overview\n",
    "This project explores housing market data to predict sale prices using machine learning models. The primary goal is to identify key features influencing house prices and develop an accurate predictive model.\n",
    "\n",
    "## Dataset\n",
    "- **Source:** Kaggle: Gusthema’s House Price Predictions using TensorFlow Decision Forests. \n",
    "- **Description:** Historical housing data, including property characteristics and sale prices.\n",
    "- **Features:** Property scharacteristics\n",
    "- **Target Variable:** Sale Price\n",
    "- **Additional Data:** Population statistics from worldometers.info.\n",
    "\n",
    "## Approach & Methodology\n",
    "- **Exploratory Data Analysis:** Identified key features and relationships. \n",
    "- **Feature Selection:** Used statistical tests and model based performances.\n",
    "- **Model Training & Comparison:** Tested multiple models(Lasso, Ridge, OLS, Random Forest, Gradient Boosting, SVM).\n",
    "- **Hyperparameter Tuning:** Improved model performance with GridSearchCV.\n",
    "\n",
    "## Model Selection & Performance\n",
    "After testing multiple models, the **Gradient Boosting** model performed best due to its ability to reduce errors and handle complex patterns.\n",
    "\n",
    "| Model                | Test RMSE  | Train RMSE  | \n",
    "|----------------------|------------|------------|\n",
    "| Lasso Regression    | 34,262.05  | -          | \n",
    "| Random Forest       | 27,245.97  | 11,054.71  | \n",
    "| Gradient Boosting   | **25,492.86**  | 20,307.08  |\n",
    "\n",
    "## Key Findings\n",
    "- The most important features influencing sale prices are:\n",
    "  - **Overall Quality**\n",
    "  - **Ground Living Area**\n",
    "  - **Garage Cars**\n",
    "  - **Total Basement Square Footage**\n",
    "\n",
    "## Recommendations\n",
    "- **Future Improvements**\n",
    "   - Fine-tuning hyperparameters further or testing deep learning models.\n",
    "   - Collect newer data to improve accuracy.\n",
    "   - Adding new features(e.g., crime rate, school ratings) to improve model generalization.   \n",
    "- **Potential Applications:** Real estate agencies and investors can use this model to assess house values and identify undervalued properties. \n",
    "\n",
    "## How to Run This Project\n",
    "1. Clone the repository:\n",
    "   ```bash\n",
    "   git clone https://github.com/ampena1102/Springboard_Regression_Capstone.git\n",
    "[Presentation Slides](./Capstone_Presentation.pdf)"
   ]
  }
 ],
 "metadata": {
  "kernelspec": {
   "display_name": "Python 3 (ipykernel)",
   "language": "python",
   "name": "python3"
  },
  "language_info": {
   "codemirror_mode": {
    "name": "ipython",
    "version": 3
   },
   "file_extension": ".py",
   "mimetype": "text/x-python",
   "name": "python",
   "nbconvert_exporter": "python",
   "pygments_lexer": "ipython3",
   "version": "3.12.4"
  }
 },
 "nbformat": 4,
 "nbformat_minor": 5
}
